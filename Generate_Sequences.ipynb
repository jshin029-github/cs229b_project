{
 "cells": [
  {
   "cell_type": "code",
   "execution_count": null,
   "metadata": {},
   "outputs": [],
   "source": [
    "import RNA\n",
    "\n",
    "import numpy as np\n",
    "\n",
    "import matplotlib.pyplot as plt\n",
    "import seaborn as sns"
   ]
  },
  {
   "cell_type": "code",
   "execution_count": null,
   "metadata": {},
   "outputs": [],
   "source": [
    "def makeHelix(max_len,\n",
    "                avg_helix_len = 3,\n",
    "                avg_loop_len = 2,\n",
    "                paired_emissions = [.80,.18,.02],\n",
    "                ):\n",
    "\n",
    "    \n",
    "    rng = np.random.uniform()\n",
    "    \n",
    "    loop_len = np.random.poisson(lam=avg_loop_len)+2\n",
    "    max_len -= loop_len\n",
    "    \n",
    "    if max_len < 6:\n",
    "        return ''\n",
    "    \n",
    "    helix_len = np.random.poisson(lam=avg_helix_len)+3\n",
    "    helix_counter = 0\n",
    "    \n",
    "    left_seq = ''\n",
    "    right_seq = ''\n",
    "            \n",
    "    while (helix_counter < helix_len) & (len(left_seq) + len(right_seq) < max_len - 1):\n",
    "\n",
    "        if np.random.uniform() < paired_emissions[0]:\n",
    "            left_seq += '('\n",
    "            right_seq = ')' + right_seq\n",
    "        elif rng < sum(paired_emissions[:2]):\n",
    "            \n",
    "            max_new_seq = max_len - len(left_seq) - len(right_seq)\n",
    "            \n",
    "            if max_new_seq > 8:\n",
    "                if np.random.uniform() < 0.5:\n",
    "                    left_seq += makeHelix(max_new_seq)\n",
    "                else:\n",
    "                    right_seq = makeHelix(max_new_seq) + right_seq\n",
    "                    \n",
    "        elif np.random.uniform() < 0.5:\n",
    "            left_seq += '.'\n",
    "        else:\n",
    "            right_seq = '.' + right_seq\n",
    "\n",
    "        helix_counter += 1\n",
    "    \n",
    "    return left_seq + '.'*loop_len + right_seq"
   ]
  },
  {
   "cell_type": "code",
   "execution_count": null,
   "metadata": {},
   "outputs": [],
   "source": [
    "def CFRNASSM(seq_len, \n",
    "             state_space = {0:'paired',1:'unpaired'},\n",
    "             avg_helix_len = 3,\n",
    "             avg_loop_len = 3,\n",
    "             state_transitions = np.array([[.5,.5],[.3,.7]]),\n",
    "             paired_emissions = [.95,.05]):\n",
    "    \n",
    "    current_state = int(np.random.uniform() > 0.5)\n",
    "    \n",
    "    left_seq = ''\n",
    "    right_seq = ''\n",
    "    \n",
    "    while len(left_seq) + len(right_seq) < seq_len - 1:\n",
    "        \n",
    "        rng = np.random.uniform()\n",
    "        \n",
    "        helix_len = np.random.poisson(lam=avg_helix_len)+3\n",
    "        loop_len = np.random.poisson(lam=avg_loop_len)\n",
    "        \n",
    "        if current_state == 0:\n",
    "            if rng < 0.5:\n",
    "                left_seq += makeHelix(seq_len - len(left_seq) - len(right_seq))\n",
    "            else:\n",
    "                right_seq = makeHelix(seq_len - len(left_seq) - len(right_seq)) + right_seq\n",
    "        else:\n",
    "            loop_counter = 0\n",
    "            \n",
    "            while (loop_counter < loop_len)\\\n",
    "                    & (len(left_seq) + len(right_seq) < seq_len - 1):\n",
    "                \n",
    "                if rng < 0.5:\n",
    "                    left_seq += '.'\n",
    "                else:\n",
    "                    right_seq = '.' + right_seq\n",
    "                    \n",
    "                loop_counter += 1\n",
    "        \n",
    "        current_state = int(state_transitions[current_state,0] < rng)\n",
    "    \n",
    "    seq = left_seq + right_seq\n",
    "    \n",
    "    if len(seq) < seq_len:\n",
    "        seq += '.'\n",
    "    \n",
    "    return seq"
   ]
  },
  {
   "cell_type": "code",
   "execution_count": null,
   "metadata": {},
   "outputs": [],
   "source": [
    "def parseDotBracket(dot_bracket,\n",
    "                    bp_dict = {'A':'U','U':'A','G':'C','C':'G'},\n",
    "                    GU_prob = 0.1,\n",
    "                    GU_dict = {'A':'U','U':'G','G':'U','C':'G'}\n",
    "                   ):\n",
    "    seq = [None]*len(dot_bracket)\n",
    "    \n",
    "    helix_stack = []\n",
    "    \n",
    "    max_iter = len(dot_bracket)\n",
    "    counter = 0\n",
    "    \n",
    "    while (len(seq) > 0) & (counter < max_iter):\n",
    "        nuc = np.random.choice(['A','U','G','C'])\n",
    "        \n",
    "        if dot_bracket[0] == '.':\n",
    "            seq[counter] = nuc\n",
    "            dot_bracket = dot_bracket[1:]\n",
    "            \n",
    "        elif dot_bracket[0] == '(':\n",
    "            helix_stack += [(counter,np.random.choice(['A','U','G','C','G','C']))]\n",
    "            dot_bracket = dot_bracket[1:]\n",
    "            \n",
    "        elif dot_bracket[0] == ')':\n",
    "            seq[helix_stack[-1][0]] = helix_stack[-1][1]    \n",
    "            \n",
    "            if np.random.uniform() < GU_prob:\n",
    "                seq[counter] = GU_dict[helix_stack[-1][1]]\n",
    "            else:\n",
    "                seq[counter] = bp_dict[helix_stack[-1][1]]\n",
    "                \n",
    "            helix_stack = helix_stack[:-1]      \n",
    "            dot_bracket = dot_bracket[1:]\n",
    "        \n",
    "#         print(dot_bracket,[f[0] for f in helix_stack])\n",
    "        counter += 1\n",
    "    \n",
    "    return ''.join(seq)"
   ]
  },
  {
   "cell_type": "code",
   "execution_count": null,
   "metadata": {},
   "outputs": [],
   "source": []
  },
  {
   "cell_type": "code",
   "execution_count": null,
   "metadata": {},
   "outputs": [],
   "source": []
  },
  {
   "cell_type": "code",
   "execution_count": null,
   "metadata": {},
   "outputs": [],
   "source": [
    "struct = CFRNASSM(150)\n",
    "struct"
   ]
  },
  {
   "cell_type": "code",
   "execution_count": null,
   "metadata": {},
   "outputs": [],
   "source": []
  },
  {
   "cell_type": "code",
   "execution_count": null,
   "metadata": {},
   "outputs": [],
   "source": [
    "# %%timeit\n",
    "# RNA.inverse_fold(parseDotBracket(struct),struct)"
   ]
  },
  {
   "cell_type": "code",
   "execution_count": null,
   "metadata": {},
   "outputs": [],
   "source": [
    "# inv_fold"
   ]
  },
  {
   "cell_type": "code",
   "execution_count": null,
   "metadata": {},
   "outputs": [],
   "source": [
    "# %timeit RNA.fold_compound(parseDotBracket(struct)).pf()"
   ]
  },
  {
   "cell_type": "code",
   "execution_count": null,
   "metadata": {},
   "outputs": [],
   "source": [
    "struct = CFRNASSM(150)\n",
    "struct"
   ]
  },
  {
   "cell_type": "code",
   "execution_count": null,
   "metadata": {},
   "outputs": [],
   "source": [
    "fc = RNA.fold_compound(parseDotBracket(struct))\n",
    "fc.pf()\n",
    "np.round(np.sum(np.array(fc.bpp()) + np.array(fc.bpp()).T,axis=1)[1:],3)"
   ]
  },
  {
   "cell_type": "code",
   "execution_count": null,
   "metadata": {},
   "outputs": [],
   "source": [
    "plt.stem(np.sum(np.array(fc.bpp()) + np.array(fc.bpp()).T,axis=1)[1:])\n",
    "\n",
    "plt.show()"
   ]
  },
  {
   "cell_type": "code",
   "execution_count": null,
   "metadata": {},
   "outputs": [],
   "source": []
  },
  {
   "cell_type": "code",
   "execution_count": 5,
   "metadata": {},
   "outputs": [],
   "source": [
    "from joblib import Parallel, delayed"
   ]
  },
  {
   "cell_type": "code",
   "execution_count": 6,
   "metadata": {},
   "outputs": [],
   "source": [
    "def makeSamplesAndWrite(i,max_len = 1000):\n",
    "    \n",
    "    output = ''\n",
    "    \n",
    "    seq_lens = np.random.randint(150,400,size=max_len)\n",
    "    \n",
    "    for seq_len in seq_lens:\n",
    "        \n",
    "        struct = CFRNASSM(seq_len)\n",
    "        seq = parseDotBracket(struct)\n",
    "        fc = RNA.fold_compound(seq)\n",
    "        fc.pf()\n",
    "        bpp = np.sum(np.array(fc.bpp()) + np.array(fc.bpp()).T,axis=1)[1:]\n",
    "        \n",
    "        output += f\"{seq}\\t{','.join(bpp.astype('str'))}\\n\"\n",
    "        \n",
    "    with open(f'sequence_files/{i}.tsv','w') as f:\n",
    "        f.write(output)"
   ]
  },
  {
   "cell_type": "code",
   "execution_count": 7,
   "metadata": {},
   "outputs": [
    {
     "name": "stderr",
     "output_type": "stream",
     "text": [
      "[Parallel(n_jobs=-2)]: Using backend LokyBackend with 3 concurrent workers.\n",
      "[Parallel(n_jobs=-2)]: Done   2 tasks      | elapsed:  4.0min\n",
      "[Parallel(n_jobs=-2)]: Done   7 tasks      | elapsed: 11.9min\n",
      "[Parallel(n_jobs=-2)]: Done  12 tasks      | elapsed: 16.2min\n",
      "[Parallel(n_jobs=-2)]: Done  19 tasks      | elapsed: 27.7min\n",
      "[Parallel(n_jobs=-2)]: Done  26 tasks      | elapsed: 35.7min\n",
      "[Parallel(n_jobs=-2)]: Done  35 tasks      | elapsed: 47.5min\n",
      "[Parallel(n_jobs=-2)]: Done  44 tasks      | elapsed: 59.4min\n",
      "[Parallel(n_jobs=-2)]: Done  55 tasks      | elapsed: 75.2min\n",
      "[Parallel(n_jobs=-2)]: Done  66 tasks      | elapsed: 88.1min\n",
      "[Parallel(n_jobs=-2)]: Done  79 tasks      | elapsed: 106.5min\n",
      "[Parallel(n_jobs=-2)]: Done  92 tasks      | elapsed: 122.8min\n",
      "[Parallel(n_jobs=-2)]: Done 100 out of 100 | elapsed: 133.1min finished\n"
     ]
    },
    {
     "data": {
      "text/plain": [
       "[None,\n",
       " None,\n",
       " None,\n",
       " None,\n",
       " None,\n",
       " None,\n",
       " None,\n",
       " None,\n",
       " None,\n",
       " None,\n",
       " None,\n",
       " None,\n",
       " None,\n",
       " None,\n",
       " None,\n",
       " None,\n",
       " None,\n",
       " None,\n",
       " None,\n",
       " None,\n",
       " None,\n",
       " None,\n",
       " None,\n",
       " None,\n",
       " None,\n",
       " None,\n",
       " None,\n",
       " None,\n",
       " None,\n",
       " None,\n",
       " None,\n",
       " None,\n",
       " None,\n",
       " None,\n",
       " None,\n",
       " None,\n",
       " None,\n",
       " None,\n",
       " None,\n",
       " None,\n",
       " None,\n",
       " None,\n",
       " None,\n",
       " None,\n",
       " None,\n",
       " None,\n",
       " None,\n",
       " None,\n",
       " None,\n",
       " None,\n",
       " None,\n",
       " None,\n",
       " None,\n",
       " None,\n",
       " None,\n",
       " None,\n",
       " None,\n",
       " None,\n",
       " None,\n",
       " None,\n",
       " None,\n",
       " None,\n",
       " None,\n",
       " None,\n",
       " None,\n",
       " None,\n",
       " None,\n",
       " None,\n",
       " None,\n",
       " None,\n",
       " None,\n",
       " None,\n",
       " None,\n",
       " None,\n",
       " None,\n",
       " None,\n",
       " None,\n",
       " None,\n",
       " None,\n",
       " None,\n",
       " None,\n",
       " None,\n",
       " None,\n",
       " None,\n",
       " None,\n",
       " None,\n",
       " None,\n",
       " None,\n",
       " None,\n",
       " None,\n",
       " None,\n",
       " None,\n",
       " None,\n",
       " None,\n",
       " None,\n",
       " None,\n",
       " None,\n",
       " None,\n",
       " None,\n",
       " None]"
      ]
     },
     "execution_count": 7,
     "metadata": {},
     "output_type": "execute_result"
    }
   ],
   "source": [
    "Parallel(n_jobs=-2,verbose=10)(delayed(makeSamplesAndWrite)(i) for i in range(100))"
   ]
  },
  {
   "cell_type": "code",
   "execution_count": null,
   "metadata": {},
   "outputs": [],
   "source": []
  },
  {
   "cell_type": "code",
   "execution_count": null,
   "metadata": {},
   "outputs": [],
   "source": []
  },
  {
   "cell_type": "code",
   "execution_count": null,
   "metadata": {},
   "outputs": [],
   "source": []
  },
  {
   "cell_type": "code",
   "execution_count": null,
   "metadata": {},
   "outputs": [],
   "source": []
  },
  {
   "cell_type": "code",
   "execution_count": null,
   "metadata": {},
   "outputs": [],
   "source": []
  },
  {
   "cell_type": "code",
   "execution_count": null,
   "metadata": {},
   "outputs": [],
   "source": []
  },
  {
   "cell_type": "code",
   "execution_count": null,
   "metadata": {},
   "outputs": [],
   "source": []
  }
 ],
 "metadata": {
  "kernelspec": {
   "display_name": "Python 3",
   "language": "python",
   "name": "python3"
  },
  "language_info": {
   "codemirror_mode": {
    "name": "ipython",
    "version": 3
   },
   "file_extension": ".py",
   "mimetype": "text/x-python",
   "name": "python",
   "nbconvert_exporter": "python",
   "pygments_lexer": "ipython3",
   "version": "3.8.10"
  }
 },
 "nbformat": 4,
 "nbformat_minor": 2
}
